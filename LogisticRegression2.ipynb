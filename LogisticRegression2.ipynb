{
  "nbformat": 4,
  "nbformat_minor": 0,
  "metadata": {
    "colab": {
      "name": "LogisticRegression2.ipynb",
      "provenance": [],
      "collapsed_sections": [],
      "mount_file_id": "1Gs6h2Ukn07OAUtRn7Udd7M0ijmGRCnJ0",
      "authorship_tag": "ABX9TyOJdi96+rBVnsZtB+DpR3AE",
      "include_colab_link": true
    },
    "kernelspec": {
      "name": "python3",
      "display_name": "Python 3"
    }
  },
  "cells": [
    {
      "cell_type": "markdown",
      "metadata": {
        "id": "view-in-github",
        "colab_type": "text"
      },
      "source": [
        "<a href=\"https://colab.research.google.com/github/AlbertoJim04/SeminarProject/blob/master/LogisticRegression2.ipynb\" target=\"_parent\"><img src=\"https://colab.research.google.com/assets/colab-badge.svg\" alt=\"Open In Colab\"/></a>"
      ]
    },
    {
      "cell_type": "code",
      "metadata": {
        "colab": {
          "base_uri": "https://localhost:8080/",
          "height": 204
        },
        "id": "WMkmRCHF4NCH",
        "outputId": "2e4317f4-fb7e-4e50-92c5-9c907e29ab5c"
      },
      "source": [
        "# Importing libraries\n",
        "import numpy as np\n",
        "import pandas as pd\n",
        "import matplotlib.pyplot as plt\n",
        "from sklearn.model_selection import train_test_split\n",
        "from math import exp\n",
        "plt.rcParams[\"figure.figsize\"] = (10, 6)\n",
        "\n",
        "# Load the data\n",
        "data = pd.read_csv(\"/content/drive/MyDrive/Seminar/D2.csv\")\n",
        "data.head()"
      ],
      "execution_count": 4,
      "outputs": [
        {
          "output_type": "execute_result",
          "data": {
            "text/html": [
              "<div>\n",
              "<style scoped>\n",
              "    .dataframe tbody tr th:only-of-type {\n",
              "        vertical-align: middle;\n",
              "    }\n",
              "\n",
              "    .dataframe tbody tr th {\n",
              "        vertical-align: top;\n",
              "    }\n",
              "\n",
              "    .dataframe thead th {\n",
              "        text-align: right;\n",
              "    }\n",
              "</style>\n",
              "<table border=\"1\" class=\"dataframe\">\n",
              "  <thead>\n",
              "    <tr style=\"text-align: right;\">\n",
              "      <th></th>\n",
              "      <th>age</th>\n",
              "      <th>gen</th>\n",
              "      <th>poly</th>\n",
              "      <th>polyd</th>\n",
              "      <th>weigh</th>\n",
              "      <th>weak</th>\n",
              "      <th>polyg</th>\n",
              "      <th>thrush</th>\n",
              "      <th>blur</th>\n",
              "      <th>itch</th>\n",
              "      <th>irri</th>\n",
              "      <th>delay</th>\n",
              "      <th>pares</th>\n",
              "      <th>muscl</th>\n",
              "      <th>alope</th>\n",
              "      <th>obes</th>\n",
              "      <th>clas</th>\n",
              "    </tr>\n",
              "  </thead>\n",
              "  <tbody>\n",
              "    <tr>\n",
              "      <th>0</th>\n",
              "      <td>40</td>\n",
              "      <td>1</td>\n",
              "      <td>0</td>\n",
              "      <td>1</td>\n",
              "      <td>0</td>\n",
              "      <td>1</td>\n",
              "      <td>0</td>\n",
              "      <td>0</td>\n",
              "      <td>0</td>\n",
              "      <td>1</td>\n",
              "      <td>0</td>\n",
              "      <td>1</td>\n",
              "      <td>0</td>\n",
              "      <td>1</td>\n",
              "      <td>1</td>\n",
              "      <td>1</td>\n",
              "      <td>1</td>\n",
              "    </tr>\n",
              "    <tr>\n",
              "      <th>1</th>\n",
              "      <td>58</td>\n",
              "      <td>1</td>\n",
              "      <td>0</td>\n",
              "      <td>0</td>\n",
              "      <td>0</td>\n",
              "      <td>1</td>\n",
              "      <td>0</td>\n",
              "      <td>0</td>\n",
              "      <td>1</td>\n",
              "      <td>0</td>\n",
              "      <td>0</td>\n",
              "      <td>0</td>\n",
              "      <td>1</td>\n",
              "      <td>0</td>\n",
              "      <td>1</td>\n",
              "      <td>0</td>\n",
              "      <td>1</td>\n",
              "    </tr>\n",
              "    <tr>\n",
              "      <th>2</th>\n",
              "      <td>41</td>\n",
              "      <td>1</td>\n",
              "      <td>1</td>\n",
              "      <td>0</td>\n",
              "      <td>0</td>\n",
              "      <td>1</td>\n",
              "      <td>1</td>\n",
              "      <td>0</td>\n",
              "      <td>0</td>\n",
              "      <td>1</td>\n",
              "      <td>0</td>\n",
              "      <td>1</td>\n",
              "      <td>0</td>\n",
              "      <td>1</td>\n",
              "      <td>1</td>\n",
              "      <td>0</td>\n",
              "      <td>1</td>\n",
              "    </tr>\n",
              "    <tr>\n",
              "      <th>3</th>\n",
              "      <td>45</td>\n",
              "      <td>1</td>\n",
              "      <td>0</td>\n",
              "      <td>0</td>\n",
              "      <td>1</td>\n",
              "      <td>1</td>\n",
              "      <td>1</td>\n",
              "      <td>1</td>\n",
              "      <td>0</td>\n",
              "      <td>1</td>\n",
              "      <td>0</td>\n",
              "      <td>1</td>\n",
              "      <td>0</td>\n",
              "      <td>0</td>\n",
              "      <td>0</td>\n",
              "      <td>0</td>\n",
              "      <td>1</td>\n",
              "    </tr>\n",
              "    <tr>\n",
              "      <th>4</th>\n",
              "      <td>60</td>\n",
              "      <td>1</td>\n",
              "      <td>1</td>\n",
              "      <td>1</td>\n",
              "      <td>1</td>\n",
              "      <td>1</td>\n",
              "      <td>1</td>\n",
              "      <td>0</td>\n",
              "      <td>1</td>\n",
              "      <td>1</td>\n",
              "      <td>1</td>\n",
              "      <td>1</td>\n",
              "      <td>1</td>\n",
              "      <td>1</td>\n",
              "      <td>1</td>\n",
              "      <td>1</td>\n",
              "      <td>1</td>\n",
              "    </tr>\n",
              "  </tbody>\n",
              "</table>\n",
              "</div>"
            ],
            "text/plain": [
              "   age  gen  poly  polyd  weigh  weak  ...  delay  pares  muscl  alope  obes  clas\n",
              "0   40    1     0      1      0     1  ...      1      0      1      1     1     1\n",
              "1   58    1     0      0      0     1  ...      0      1      0      1     0     1\n",
              "2   41    1     1      0      0     1  ...      1      0      1      1     0     1\n",
              "3   45    1     0      0      1     1  ...      1      0      0      0     0     1\n",
              "4   60    1     1      1      1     1  ...      1      1      1      1     1     1\n",
              "\n",
              "[5 rows x 17 columns]"
            ]
          },
          "metadata": {
            "tags": []
          },
          "execution_count": 4
        }
      ]
    },
    {
      "cell_type": "code",
      "metadata": {
        "colab": {
          "base_uri": "https://localhost:8080/",
          "height": 374
        },
        "id": "K09QLyNA43P5",
        "outputId": "caf4e1e4-316a-4f2b-f581-d8d527bdd51e"
      },
      "source": [
        "# Visualizing the dataset\n",
        "plt.scatter(data['age'], data['clas'])\n",
        "plt.show()\n",
        "\n",
        "# Divide the data to training set and test set\n",
        "X_train, X_test, y_train, y_test = train_test_split(data['age'], data['clas'], test_size=0.20)"
      ],
      "execution_count": 6,
      "outputs": [
        {
          "output_type": "display_data",
          "data": {
            "image/png": "[encoded data removed]",
            "text/plain": [
              "<Figure size 720x432 with 1 Axes>"
            ]
          },
          "metadata": {
            "tags": [],
            "needs_background": "light"
          }
        }
      ]
    },
    {
      "cell_type": "code",
      "metadata": {
        "id": "5ngdpcXh5RcQ"
      },
      "source": [
        "# Creating the logistic regression model\n",
        "\n",
        "# Helper function to normalize data\n",
        "def normalize(X):\n",
        "    return X - X.mean()\n",
        "\n",
        "# Method to make predictions\n",
        "def predict(X, b0, b1):\n",
        "    return np.array([1 / (1 + exp(-1*b0 + -1*b1*x)) for x in X])\n",
        "\n",
        "# Method to train the model\n",
        "def logistic_regression(X, Y):\n",
        "\n",
        "    X = normalize(X)\n",
        "\n",
        "    # Initializing variables\n",
        "    b0 = 0\n",
        "    b1 = 0\n",
        "    L = 0.001\n",
        "    epochs = 300\n",
        "\n",
        "    for epoch in range(epochs):\n",
        "        y_pred = predict(X, b0, b1)\n",
        "        D_b0 = -2 * sum((Y - y_pred) * y_pred * (1 - y_pred))  # Derivative of loss wrt b0\n",
        "        D_b1 = -2 * sum(X * (Y - y_pred) * y_pred * (1 - y_pred))  # Derivative of loss wrt b1\n",
        "        b0 = b0 - L * D_b0\n",
        "        b1 = b1 - L * D_b1\n",
        "    \n",
        "    return b0, b1"
      ],
      "execution_count": 8,
      "outputs": []
    },
    {
      "cell_type": "code",
      "metadata": {
        "colab": {
          "base_uri": "https://localhost:8080/",
          "height": 391
        },
        "id": "GHOssBu55gyx",
        "outputId": "1bf31dac-23fb-4ac3-9390-b20915cd9816"
      },
      "source": [
        "# Training the model\n",
        "b0, b1 = logistic_regression(X_train, y_train)\n",
        "\n",
        "# Making predictions\n",
        "# X_test = X_test.sort_values()  # Sorting values is optional only to see the line graph\n",
        "X_test_norm = normalize(X_test)\n",
        "y_pred = predict(X_test_norm, b0, b1)\n",
        "y_pred = [1 if p >= 0.5 else 0 for p in y_pred]\n",
        "\n",
        "plt.clf()\n",
        "plt.scatter(X_test, y_test)\n",
        "plt.scatter(X_test, y_pred, c=\"red\")\n",
        "# plt.plot(X_test, y_pred, c=\"red\", linestyle='-', marker='o') # Only if values are sorted\n",
        "plt.show()\n",
        "\n",
        "# The accuracy\n",
        "accuracy = 0\n",
        "for i in range(len(y_pred)):\n",
        "    if y_pred[i] == y_test.iloc[i]:\n",
        "        accuracy += 1\n",
        "print(f\"Accuracy = {accuracy / len(y_pred)}\")"
      ],
      "execution_count": 11,
      "outputs": [
        {
          "output_type": "display_data",
          "data": {
            "image/png": "[encoded data removed]",
            "text/plain": [
              "<Figure size 720x432 with 1 Axes>"
            ]
          },
          "metadata": {
            "tags": [],
            "needs_background": "light"
          }
        },
        {
          "output_type": "stream",
          "text": [
            "Accuracy = 0.6442307692307693\n"
          ],
          "name": "stdout"
        }
      ]
    },
    {
      "cell_type": "code",
      "metadata": {
        "colab": {
          "base_uri": "https://localhost:8080/",
          "height": 445
        },
        "id": "PQCqz8x26D4G",
        "outputId": "faed1e05-49e2-4078-d454-a885102d8970"
      },
      "source": [
        "# Making predictions using scikit learn\n",
        "from sklearn.linear_model import LogisticRegression\n",
        "\n",
        "# Create an instance and fit the model \n",
        "lr_model = LogisticRegression()\n",
        "lr_model.fit(X_train.values.reshape(-1, 1), y_train.values.reshape(-1, 1))\n",
        "\n",
        "# Making predictions\n",
        "y_pred_sk = lr_model.predict(X_test.values.reshape(-1, 1))\n",
        "plt.clf()\n",
        "plt.scatter(X_test, y_test)\n",
        "plt.scatter(X_test, y_pred_sk, c=\"red\")\n",
        "plt.show()\n",
        "\n",
        "# Accuracy\n",
        "print(f\"Accuracy = {lr_model.score(X_test.values.reshape(-1, 1), y_test.values.reshape(-1, 1))}\")"
      ],
      "execution_count": 12,
      "outputs": [
        {
          "output_type": "stream",
          "text": [
            "/usr/local/lib/python3.7/dist-packages/sklearn/utils/validation.py:760: DataConversionWarning: A column-vector y was passed when a 1d array was expected. Please change the shape of y to (n_samples, ), for example using ravel().\n",
            "  y = column_or_1d(y, warn=True)\n"
          ],
          "name": "stderr"
        },
        {
          "output_type": "display_data",
          "data": {
            "image/png": "[encoded data removed]",
            "text/plain": [
              "<Figure size 720x432 with 1 Axes>"
            ]
          },
          "metadata": {
            "tags": [],
            "needs_background": "light"
          }
        },
        {
          "output_type": "stream",
          "text": [
            "Accuracy = 0.6442307692307693\n"
          ],
          "name": "stdout"
        }
      ]
    }
  ]
}