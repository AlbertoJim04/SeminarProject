{
  "nbformat": 4,
  "nbformat_minor": 0,
  "metadata": {
    "colab": {
      "name": "NaiveBayes.ipynb",
      "provenance": [],
      "mount_file_id": "1sSdC0ye3LvEp_8Fiiuxuyh2k1_FT1ndI",
      "authorship_tag": "ABX9TyO0cnVNf4yPeimS5zsWzsr1",
      "include_colab_link": true
    },
    "kernelspec": {
      "name": "python3",
      "display_name": "Python 3"
    }
  },
  "cells": [
    {
      "cell_type": "markdown",
      "metadata": {
        "id": "view-in-github",
        "colab_type": "text"
      },
      "source": [
        "<a href=\"https://colab.research.google.com/github/AlbertoJim04/SeminarProject/blob/master/NaiveBayes.ipynb\" target=\"_parent\"><img src=\"https://colab.research.google.com/assets/colab-badge.svg\" alt=\"Open In Colab\"/></a>"
      ]
    },
    {
      "cell_type": "code",
      "metadata": {
        "colab": {
          "base_uri": "https://localhost:8080/"
        },
        "id": "sr7Vb0slKipr",
        "outputId": "309ebb70-4767-4c7f-82ad-2a702072437b"
      },
      "source": [
        "import pandas as pd\n",
        "import numpy as np\n",
        "\n",
        "from sklearn.model_selection import train_test_split\n",
        "from sklearn.naive_bayes import GaussianNB\n",
        "from sklearn.metrics import accuracy_score\n",
        "import matplotlib.pyplot as plt\n",
        "import seaborn as sns\n",
        "\n",
        "df = pd.read_csv('/content/drive/MyDrive/Seminar/D.csv')\n",
        "#print(df)\n",
        "\n",
        "x = df.drop('class',axis=1)\n",
        "y= df['class']\n",
        "x_train, x_test, y_train, y_test = train_test_split(x, y, test_size=0.20,random_state=42)\n",
        "\n",
        "print(x)\n",
        "print(y)\n",
        "model = GaussianNB()\n",
        "model.fit(x_train, y_train)\n",
        "\n",
        "y_pred = model.predict(x_test)\n",
        "print(y_pred)\n",
        "\n",
        "accuracy = accuracy_score(y_test, y_pred)*100\n",
        "print(accuracy)"
      ],
      "execution_count": null,
      "outputs": [
        {
          "output_type": "stream",
          "text": [
            "     Age  Gender  Polyuria  ...  muscle stiffness  Alopecia  Obesity\n",
            "0     40       1         0  ...                 1         1        1\n",
            "1     58       1         0  ...                 0         1        0\n",
            "2     41       1         1  ...                 1         1        0\n",
            "3     45       1         0  ...                 0         0        0\n",
            "4     60       1         1  ...                 1         1        1\n",
            "..   ...     ...       ...  ...               ...       ...      ...\n",
            "511   39       0         1  ...                 0         0        0\n",
            "512   48       0         1  ...                 0         0        0\n",
            "513   58       0         1  ...                 1         0        1\n",
            "514   32       0         0  ...                 0         1        0\n",
            "515   42       1         0  ...                 0         0        0\n",
            "\n",
            "[516 rows x 16 columns]\n",
            "0      1\n",
            "1      1\n",
            "2      1\n",
            "3      1\n",
            "4      1\n",
            "      ..\n",
            "511    1\n",
            "512    1\n",
            "513    1\n",
            "514    0\n",
            "515    0\n",
            "Name: class, Length: 516, dtype: int64\n",
            "[0 0 1 1 0 1 0 1 0 1 0 0 0 1 1 1 1 1 1 1 0 1 0 0 1 1 1 1 1 1 0 0 1 1 0 1 1\n",
            " 0 1 1 0 0 1 0 0 1 1 0 0 0 1 0 0 1 0 0 0 0 1 0 1 1 1 1 1 1 1 0 0 1 1 1 1 1\n",
            " 1 1 1 1 1 1 1 0 0 1 1 0 1 1 0 1 1 1 0 0 1 0 1 1 0 1 0 0 1 0]\n",
            "84.61538461538461\n"
          ],
          "name": "stdout"
        }
      ]
    }
  ]
}